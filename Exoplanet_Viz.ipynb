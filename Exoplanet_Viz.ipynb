{
 "cells": [
  {
   "cell_type": "code",
   "execution_count": 67,
   "id": "30791b09-cb1f-4239-84da-0de308974855",
   "metadata": {},
   "outputs": [],
   "source": [
    "import neo4j\n",
    "import pandas as pd"
   ]
  },
  {
   "cell_type": "code",
   "execution_count": 68,
   "id": "7361d74f-3cd7-47e8-b97d-5b8104962ebf",
   "metadata": {},
   "outputs": [],
   "source": [
    "# URI examples: \"neo4j://localhost\", \"neo4j+s://xxx.databases.neo4j.io\"\n",
    "URI = \"bolt://localhost:7687\"\n",
    "AUTH = (\"neo4j\", \"password\")"
   ]
  },
  {
   "cell_type": "code",
   "execution_count": 69,
   "id": "5f00e3f3-e46e-42e2-b52d-08fdf241238a",
   "metadata": {},
   "outputs": [],
   "source": [
    "with GraphDatabase.driver(URI, auth=AUTH) as driver: \n",
    "    driver.verify_connectivity()"
   ]
  },
  {
   "cell_type": "code",
   "execution_count": 70,
   "id": "cc7e52a8-e3f6-49b9-bd77-aa06dbe0d023",
   "metadata": {},
   "outputs": [],
   "source": [
    "# // ----------------------------------------------------------------------------------------------------------------------------------------------------------\n",
    "# // Afficher toutes les constellations voisines de la constellation du : Auriga\n",
    "# // ----------------------------------------------------------------------------------------------------------------------------------------------------------# Get the name of all 42 year-olds\n",
    "cypher_query = \"MATCH (con:Constellation{Nom:'Auriga'})-[r:EST_VOISINE_DE]->(Voisines) RETURN con,r,Voisines\""
   ]
  },
  {
   "cell_type": "code",
   "execution_count": 80,
   "id": "246a6a79-d2e0-4630-b730-0f8f1050d9b2",
   "metadata": {},
   "outputs": [],
   "source": [
    "with GraphDatabase.driver(URI, auth=AUTH) as driver: \n",
    "    records, summary, keys = driver.execute_query(\n",
    "            cypher_query,\n",
    "            database='neo4j',\n",
    "            # result_transformer_=neo4j.Result.to_df,\n",
    "    )"
   ]
  },
  {
   "cell_type": "code",
   "execution_count": 82,
   "id": "e0ac6847-58d0-4f99-9519-c486c7c8197c",
   "metadata": {},
   "outputs": [
    {
     "name": "stdout",
     "output_type": "stream",
     "text": [
      "{'Nom': 'Lynx'}\n",
      "{'Nom': 'Taurus'}\n",
      "{'Nom': 'Gemini'}\n",
      "{'Nom': 'Camelopardalis'}\n",
      "{'Nom': 'Perseus'}\n"
     ]
    }
   ],
   "source": [
    "for record in records:\n",
    "    print(record.data()['Voisines'])"
   ]
  },
  {
   "cell_type": "code",
   "execution_count": 19,
   "id": "97d60607-488c-436c-9d8f-fa052a29edf1",
   "metadata": {},
   "outputs": [],
   "source": [
    "driver.close()"
   ]
  }
 ],
 "metadata": {
  "kernelspec": {
   "display_name": "Python 3 (ipykernel)",
   "language": "python",
   "name": "python3"
  },
  "language_info": {
   "codemirror_mode": {
    "name": "ipython",
    "version": 3
   },
   "file_extension": ".py",
   "mimetype": "text/x-python",
   "name": "python",
   "nbconvert_exporter": "python",
   "pygments_lexer": "ipython3",
   "version": "3.12.0"
  }
 },
 "nbformat": 4,
 "nbformat_minor": 5
}
